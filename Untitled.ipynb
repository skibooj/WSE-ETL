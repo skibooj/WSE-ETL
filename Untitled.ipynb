{
 "cells": [
  {
   "cell_type": "code",
   "execution_count": 3,
   "id": "aba20c7e-29f3-4dc4-8ab5-ea7d38115b9b",
   "metadata": {},
   "outputs": [],
   "source": [
    "import pandas as pd\n",
    "import requests"
   ]
  },
  {
   "cell_type": "code",
   "execution_count": null,
   "id": "508f6b9c-3ab9-49c0-b618-f7d5297b0abc",
   "metadata": {},
   "outputs": [],
   "source": [
    "base_url ='https://www.gpw.pl/archiwum-notowan'\n",
    "url_params = {'fetch':'1',\n",
    "          'type':each_instrument,\n",
    "          'date':each_date}"
   ]
  },
  {
   "cell_type": "code",
   "execution_count": null,
   "id": "58fddda5-c821-432c-a5d3-71b3b5eb02b2",
   "metadata": {},
   "outputs": [],
   "source": []
  }
 ],
 "metadata": {
  "kernelspec": {
   "display_name": "Python 3 (ipykernel)",
   "language": "python",
   "name": "python3"
  },
  "language_info": {
   "codemirror_mode": {
    "name": "ipython",
    "version": 3
   },
   "file_extension": ".py",
   "mimetype": "text/x-python",
   "name": "python",
   "nbconvert_exporter": "python",
   "pygments_lexer": "ipython3",
   "version": "3.8.11"
  }
 },
 "nbformat": 4,
 "nbformat_minor": 5
}
